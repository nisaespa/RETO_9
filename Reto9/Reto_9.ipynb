{
 "cells": [
  {
   "cell_type": "markdown",
   "metadata": {},
   "source": [
    "# RETO 9"
   ]
  },
  {
   "cell_type": "markdown",
   "metadata": {},
   "source": [
    "# Punto 1   "
   ]
  },
  {
   "cell_type": "markdown",
   "metadata": {},
   "source": [
    "De los retos anteriores selecione 3 funciones y escribalas en forma de lambdas. Del reto 6 son las funciones.\n",
    "+ Diseñe una función que calcule la cantidad de carne de aves en kilos si se tienen N gallinas, M gallos y K pollitos cada uno pesando 6 kilos, 7 kilos y 1 kilo respectivamente."
   ]
  },
  {
   "cell_type": "code",
   "execution_count": 68,
   "metadata": {},
   "outputs": [
    {
     "name": "stdout",
     "output_type": "stream",
     "text": [
      "La cantidad de carne de las aves en kilos es: 14 Kg\n"
     ]
    }
   ],
   "source": [
    "# Función para calcular la cantidad de carne de las aves\n",
    "def calcular_cantidad_de_carne(N,M,K):\n",
    "    # Gallinas (N) pesan 6 kilos, Gallos (M) 7 kilos y Pollitos (K) 1 kilo\n",
    "    formula_cantidad_de_carne = 6 * N + 7 * M + K # Formula para la cantidad de carne, conociendo el peso de cada ave\n",
    "    return formula_cantidad_de_carne\n",
    "# Función para pedir valores e imprimir la cantidad de carne\n",
    "def cantidad_carne():\n",
    "    N = int(input(\"Ingrese la cantidad de gallinas: \"))\n",
    "    M = int(input(\"Ingrese la cantidad de gallos: \"))\n",
    "    K = int(input(\"Ingrese la cantidad de pollitos: \"))\n",
    "    carne_aves = calcular_cantidad_de_carne(N,M,K)\n",
    "    print(\"La cantidad de carne de las aves en kilos es:\", carne_aves, \"Kg\")\n",
    "if __name__ == \"__main__\":\n",
    "    cantidad_carne()"
   ]
  },
  {
   "cell_type": "markdown",
   "metadata": {},
   "source": [
    "+ En lambda:"
   ]
  },
  {
   "cell_type": "code",
   "execution_count": 69,
   "metadata": {},
   "outputs": [
    {
     "name": "stdout",
     "output_type": "stream",
     "text": [
      "La cantidad de carne de las aves en kilos es: 14 Kg\n"
     ]
    }
   ],
   "source": [
    "if __name__ == \"__main__\":\n",
    "    N = int(input(\"Ingrese la cantidad de gallinas: \"))\n",
    "    M = int(input(\"Ingrese la cantidad de gallos: \"))\n",
    "    K = int(input(\"Ingrese la cantidad de pollitos: \"))\n",
    "    carne_aves = (lambda N , M , K: N * 6 + M * 7 + K) (N,M,K)\n",
    "    print(\"La cantidad de carne de las aves en kilos es:\", carne_aves, \"Kg\")"
   ]
  },
  {
   "cell_type": "markdown",
   "metadata": {},
   "source": [
    "+ Mi mamá me manda a comprar P panes a 300 cada uno, M bolsas de leche a 3300 cada una y H huevos a 350 cada uno. Hacer un programa que me diga las vueltas (o lo que quedo debiendo) cuando me da un billete de B pesos."
   ]
  },
  {
   "cell_type": "code",
   "execution_count": 72,
   "metadata": {},
   "outputs": [
    {
     "name": "stdout",
     "output_type": "stream",
     "text": [
      "Las vueltas son : 1050 $\n"
     ]
    }
   ],
   "source": [
    "# Función para el valor de la compra\n",
    "def compra(P,M,H,B):\n",
    "    valor_de_la_compra = P * 300 + M * 3300 + H * 350\n",
    "    return valor_de_la_compra\n",
    "# Función para pedir valores, calcular vueltas o si se debe, e imprimir resultado\n",
    "def vueltas_o_debe():\n",
    "    P = int(input(\"¿Cuantos panes son?: \")) # En enteros ya que son cosas individuales\n",
    "    M = int(input(\"¿Cuantas bolsas de leche son?: \"))\n",
    "    H = int(input(\"¿Cuantos huevos son?: \"))\n",
    "    B = int(input(\"¿De qué valor es el billete?: \")) #Los billetes no tienen decimales\n",
    "    valor_compra = compra(P,M,H,B)\n",
    "    if B < valor_compra: #Sí falta dinero\n",
    "        debe = B - valor_compra \n",
    "        print(\"Debe :\", debe, \"$\")\n",
    "    elif B > valor_compra: #Sí sobró dinero\n",
    "        vueltas = B - valor_compra\n",
    "        print(\"Las vueltas son :\", vueltas, \"$\")\n",
    "    else: \n",
    "        print(\"No debe, ni hay vueltas\")\n",
    "if __name__ == \"__main__\":\n",
    "    vueltas_o_debe()"
   ]
  },
  {
   "cell_type": "markdown",
   "metadata": {},
   "source": [
    "+ En lambda: "
   ]
  },
  {
   "cell_type": "code",
   "execution_count": 73,
   "metadata": {},
   "outputs": [
    {
     "name": "stdout",
     "output_type": "stream",
     "text": [
      "Las vueltas son : 1050$\n"
     ]
    }
   ],
   "source": [
    "if __name__ == \"__main__\":\n",
    "    P = int(input(\"¿Cuantos panes son?: \")) \n",
    "    M = int(input(\"¿Cuantas bolsas de leche son?: \"))\n",
    "    H = int(input(\"¿Cuantos huevos son?: \"))\n",
    "    B = int(input(\"¿De qué valor es el billete?: \"))\n",
    "    valor_de_la_compra = (lambda P , M , H : -(P * 300 + M * 3300 + H * 350) + B) (P, H, M)\n",
    "    if valor_de_la_compra < 0:  \n",
    "        print(f\"Debe : {valor_de_la_compra * -1}$\")\n",
    "    elif valor_de_la_compra > 0: \n",
    "        print(f\"Las vueltas son : {valor_de_la_compra}$\")\n",
    "    else: \n",
    "        print(\"No debe, ni hay vueltas\")\n"
   ]
  },
  {
   "cell_type": "markdown",
   "metadata": {},
   "source": [
    "+ Haga un programa que utilice una función para calcular el valor de un préstamo C usando interés compuesto del i por n meses."
   ]
  },
  {
   "cell_type": "code",
   "execution_count": 75,
   "metadata": {},
   "outputs": [
    {
     "name": "stdout",
     "output_type": "stream",
     "text": [
      "2000.0\n"
     ]
    }
   ],
   "source": [
    "# Función para calcular el valor total del prestamo\n",
    "def prestamo_con_intereses(C, n, i):\n",
    "    valor_total_del_prestamo = C * ((1 + i) ** n) # Formula del interés compuesto\n",
    "    return valor_total_del_prestamo\n",
    "# Función para pedir valores e imprimir resultado\n",
    "def valor_prestamo_con_intereses():\n",
    "    C = float(input(\"Ingrese el valor del prestamo: \"))\n",
    "    n = int(input(\"Ingrese en cuantos meses se va a pagar el prestamo: \")) #En valor entero los meses\n",
    "    i = float(input(\"Ingrese el valor del interés: \"))\n",
    "    valor_total_del_prestamoo = prestamo_con_intereses(C, n, i)\n",
    "    print(valor_total_del_prestamoo)\n",
    "if __name__ == \"__main__\":\n",
    "    valor_prestamo_con_intereses()"
   ]
  },
  {
   "cell_type": "markdown",
   "metadata": {},
   "source": [
    "+ En lambda:"
   ]
  },
  {
   "cell_type": "code",
   "execution_count": 76,
   "metadata": {},
   "outputs": [
    {
     "name": "stdout",
     "output_type": "stream",
     "text": [
      "2000.0\n"
     ]
    }
   ],
   "source": [
    "if __name__ == \"__main__\":\n",
    "    C = float(input(\"Ingrese el valor del prestamo: \"))\n",
    "    n = int(input(\"Ingrese en cuantos meses se va a pagar el prestamo: \")) \n",
    "    i = float(input(\"Ingrese el valor del interés: \"))\n",
    "    valor_total_del_prestamoo = (lambda C, n, i: C * ((1 + i) ** n))(C, n, i)\n",
    "    print(valor_total_del_prestamoo)"
   ]
  },
  {
   "cell_type": "markdown",
   "metadata": {},
   "source": [
    "# Punto 2"
   ]
  },
  {
   "cell_type": "markdown",
   "metadata": {},
   "source": [
    "De los retos anteriores selecione 3 funciones y escribalas con argumentos no definidos (*args).\n",
    "+ Diseñe una función que calcule la cantidad de carne de aves en kilos si se tienen N gallinas, M gallos y K pollitos cada uno pesando 6 kilos, 7 kilos y 1 kilo respectivamente."
   ]
  },
  {
   "cell_type": "code",
   "execution_count": 77,
   "metadata": {},
   "outputs": [
    {
     "name": "stdout",
     "output_type": "stream",
     "text": [
      "La cantidad de carne de las aves en kilos es: 14 Kg\n"
     ]
    }
   ],
   "source": [
    "# Función para calcular la cantidad de carne de las aves\n",
    "def calcular_cantidad_de_carne(N,M,K):\n",
    "    # Gallinas (N) pesan 6 kilos, Gallos (M) 7 kilos y Pollitos (K) 1 kilo\n",
    "    formula_cantidad_de_carne = 6 * N + 7 * M + K # Formula para la cantidad de carne, conociendo el peso de cada ave\n",
    "    return formula_cantidad_de_carne\n",
    "# Función para pedir valores e imprimir la cantidad de carne\n",
    "def cantidad_carne():\n",
    "    N = int(input(\"Ingrese la cantidad de gallinas: \"))\n",
    "    M = int(input(\"Ingrese la cantidad de gallos: \"))\n",
    "    K = int(input(\"Ingrese la cantidad de pollitos: \"))\n",
    "    carne_aves = calcular_cantidad_de_carne(N,M,K)\n",
    "    print(\"La cantidad de carne de las aves en kilos es:\", carne_aves, \"Kg\")\n",
    "if __name__ == \"__main__\":\n",
    "    cantidad_carne()"
   ]
  },
  {
   "cell_type": "markdown",
   "metadata": {},
   "source": [
    "+ Con *args:"
   ]
  },
  {
   "cell_type": "code",
   "execution_count": 78,
   "metadata": {},
   "outputs": [
    {
     "name": "stdout",
     "output_type": "stream",
     "text": [
      "La cantidad de carne de las aves en kilos es: 14 Kg\n"
     ]
    }
   ],
   "source": [
    "def calcular_cantidad_de_carne(*args):\n",
    "    formula_cantidad_de_carne = 6 * N + 7 * M + K \n",
    "    return formula_cantidad_de_carne\n",
    "if __name__ == \"__main__\":\n",
    "    N = int(input(\"Ingrese la cantidad de gallinas: \"))\n",
    "    M = int(input(\"Ingrese la cantidad de gallos: \"))\n",
    "    K = int(input(\"Ingrese la cantidad de pollitos: \"))\n",
    "    carne_aves = calcular_cantidad_de_carne(N , M, K)\n",
    "    print(\"La cantidad de carne de las aves en kilos es:\", carne_aves, \"Kg\")\n",
    "\n"
   ]
  },
  {
   "cell_type": "markdown",
   "metadata": {},
   "source": [
    "+ Mi mamá me manda a comprar P panes a 300 cada uno, M bolsas de leche a 3300 cada una y H huevos a 350 cada uno. Hacer un programa que me diga las vueltas (o lo que quedo debiendo) cuando me da un billete de B pesos."
   ]
  },
  {
   "cell_type": "code",
   "execution_count": 79,
   "metadata": {},
   "outputs": [
    {
     "name": "stdout",
     "output_type": "stream",
     "text": [
      "Las vueltas son : 1050 $\n"
     ]
    }
   ],
   "source": [
    "# Función para el valor de la compra\n",
    "def compra(P,M,H,B):\n",
    "    valor_de_la_compra = P * 300 + M * 3300 + H * 350\n",
    "    return valor_de_la_compra\n",
    "# Función para pedir valores, calcular vueltas o si se debe, e imprimir resultado\n",
    "def vueltas_o_debe():\n",
    "    P = int(input(\"¿Cuantos panes son?: \")) # En enteros ya que son cosas individuales\n",
    "    M = int(input(\"¿Cuantas bolsas de leche son?: \"))\n",
    "    H = int(input(\"¿Cuantos huevos son?: \"))\n",
    "    B = int(input(\"¿De qué valor es el billete?: \")) #Los billetes no tienen decimales\n",
    "    valor_compra = compra(P,M,H,B)\n",
    "    if B < valor_compra: #Sí falta dinero\n",
    "        debe = B - valor_compra \n",
    "        print(\"Debe :\", debe, \"$\")\n",
    "    elif B > valor_compra: #Sí sobró dinero\n",
    "        vueltas = B - valor_compra\n",
    "        print(\"Las vueltas son :\", vueltas, \"$\")\n",
    "    else: \n",
    "        print(\"No debe, ni hay vueltas\")\n",
    "if __name__ == \"__main__\":\n",
    "    vueltas_o_debe()"
   ]
  },
  {
   "cell_type": "markdown",
   "metadata": {},
   "source": [
    "+ Con *args:"
   ]
  },
  {
   "cell_type": "code",
   "execution_count": 80,
   "metadata": {},
   "outputs": [
    {
     "name": "stdout",
     "output_type": "stream",
     "text": [
      "Las vueltas son : 1050 $\n"
     ]
    }
   ],
   "source": [
    "def compra(*args):\n",
    "    valor_de_la_compra = P * 300 + M * 3300 + H * 350\n",
    "    return valor_de_la_compra\n",
    "if __name__ == \"__main__\":\n",
    "    P = int(input(\"¿Cuantos panes son?: \")) \n",
    "    M = int(input(\"¿Cuantas bolsas de leche son?: \"))\n",
    "    H = int(input(\"¿Cuantos huevos son?: \"))\n",
    "    B = int(input(\"¿De qué valor es el billete?: \"))\n",
    "    valor_compra = compra(P,M,H,B)\n",
    "    if B < valor_compra: \n",
    "        debe = B - valor_compra \n",
    "        print(\"Debe :\", debe, \"$\")\n",
    "    elif B > valor_compra: \n",
    "        vueltas = B - valor_compra\n",
    "        print(\"Las vueltas son :\", vueltas, \"$\")\n",
    "    else: \n",
    "        print(\"No debe, ni hay vueltas\")"
   ]
  },
  {
   "cell_type": "markdown",
   "metadata": {},
   "source": [
    "+ Haga un programa que utilice una función para calcular el valor de un préstamo C usando interés compuesto del i por n meses."
   ]
  },
  {
   "cell_type": "code",
   "execution_count": 81,
   "metadata": {},
   "outputs": [
    {
     "name": "stdout",
     "output_type": "stream",
     "text": [
      "2000.0\n"
     ]
    }
   ],
   "source": [
    "# Función para calcular el valor total del prestamo\n",
    "def prestamo_con_intereses(C, n, i):\n",
    "    valor_total_del_prestamo = C * ((1 + i) ** n) # Formula del interés compuesto\n",
    "    return valor_total_del_prestamo\n",
    "# Función para pedir valores e imprimir resultado\n",
    "def valor_prestamo_con_intereses():\n",
    "    C = float(input(\"Ingrese el valor del prestamo: \"))\n",
    "    n = int(input(\"Ingrese en cuantos meses se va a pagar el prestamo: \")) #En valor entero los meses\n",
    "    i = float(input(\"Ingrese el valor del interés: \"))\n",
    "    valor_total_del_prestamoo = prestamo_con_intereses(C, n, i)\n",
    "    print(valor_total_del_prestamoo)\n",
    "if __name__ == \"__main__\":\n",
    "    valor_prestamo_con_intereses()"
   ]
  },
  {
   "cell_type": "markdown",
   "metadata": {},
   "source": [
    "+ Con *args:"
   ]
  },
  {
   "cell_type": "code",
   "execution_count": 82,
   "metadata": {},
   "outputs": [
    {
     "name": "stdout",
     "output_type": "stream",
     "text": [
      "2000.0\n"
     ]
    }
   ],
   "source": [
    "def prestamo_con_intereses(*args):\n",
    "    valor_total_del_prestamo = C * ((1 + i) ** n) \n",
    "    return valor_total_del_prestamo\n",
    "if __name__ == \"__main__\":\n",
    "    C = float(input(\"Ingrese el valor del prestamo: \"))\n",
    "    n = int(input(\"Ingrese en cuantos meses se va a pagar el prestamo: \")) \n",
    "    i = float(input(\"Ingrese el valor del interés: \"))\n",
    "    valor_total_del_prestamoo = prestamo_con_intereses(C, n, i)\n",
    "    print(valor_total_del_prestamoo)"
   ]
  },
  {
   "cell_type": "markdown",
   "metadata": {},
   "source": [
    "# Punto 3"
   ]
  },
  {
   "cell_type": "markdown",
   "metadata": {},
   "source": [
    "Escriba una función recursiva para calcular la operación de la potencia."
   ]
  },
  {
   "cell_type": "code",
   "execution_count": 90,
   "metadata": {},
   "outputs": [
    {
     "name": "stdout",
     "output_type": "stream",
     "text": [
      "5 a la 0 = 1\n"
     ]
    }
   ],
   "source": [
    "def calcular_potencia_recursiva(base, exponente):\n",
    "    if exponente == 0:\n",
    "        return 1\n",
    "    elif exponente == 1:\n",
    "        return base\n",
    "    else: \n",
    "        return base*calcular_potencia_recursiva(base, exponente - 1)\n",
    "if __name__ == '__main__':\n",
    "    base = int(input(\"Escriba la base de la potencia\"))\n",
    "    exponente = int(input(\"Escriba el exponente de la potencia\"))\n",
    "    potencia = calcular_potencia_recursiva(base, exponente)\n",
    "    print(f\"{base} a la {exponente} = {potencia}\")"
   ]
  },
  {
   "cell_type": "markdown",
   "metadata": {},
   "source": [
    "# Punto 4   "
   ]
  },
  {
   "cell_type": "markdown",
   "metadata": {},
   "source": [
    "Utilice la siguiente plantilla de code para contar el tiempo:\n",
    "\n",
    "\n",
    "\n",
    "import time\n",
    "\n",
    "start_time = time.time()\n",
    "# instrucciones sobre las cuales se quiere medir tiempo de ejecución\n",
    "end_time = time.time()\n",
    "\n",
    "timer = end_time - start_time\n",
    "print(timer)\n",
    "\n",
    "\n",
    "Realice pruebas para calcular fibonacci con iteración o con recursión. Determine desde que número de la serie la diferencia de tiempo se vuelve significativa."
   ]
  }
 ],
 "metadata": {
  "kernelspec": {
   "display_name": "Python 3",
   "language": "python",
   "name": "python3"
  },
  "language_info": {
   "codemirror_mode": {
    "name": "ipython",
    "version": 3
   },
   "file_extension": ".py",
   "mimetype": "text/x-python",
   "name": "python",
   "nbconvert_exporter": "python",
   "pygments_lexer": "ipython3",
   "version": "3.11.4"
  }
 },
 "nbformat": 4,
 "nbformat_minor": 2
}
